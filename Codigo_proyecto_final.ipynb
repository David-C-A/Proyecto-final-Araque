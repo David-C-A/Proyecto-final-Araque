{
  "nbformat": 4,
  "nbformat_minor": 0,
  "metadata": {
    "colab": {
      "provenance": []
    },
    "kernelspec": {
      "name": "python3",
      "display_name": "Python 3"
    },
    "language_info": {
      "name": "python"
    }
  },
  "cells": [
    {
      "cell_type": "code",
      "execution_count": 3,
      "metadata": {
        "id": "FQLHmj0XheUi"
      },
      "outputs": [],
      "source": [
        "#Los datos usados pueden ser encontrados en https://www.datos.gov.co/Educaci-n/Resultados-nicos-Saber-Pro/u37r-hjmu\n",
        "import numpy as np\n",
        "import random\n",
        "import pandas as pd\n",
        "from sklearn.preprocessing import OneHotEncoder\n",
        "from sklearn.decomposition import PCA\n",
        "from sklearn import svm\n",
        "from sklearn.model_selection import train_test_split\n",
        "from sklearn.metrics import f1_score, matthews_corrcoef\n",
        "from tensorflow import keras\n",
        "from keras import layers\n",
        "from sklearn.preprocessing import LabelEncoder\n",
        "import sklearn.metrics as metrics\n",
        "from sklearn.ensemble import RandomForestClassifier\n"
      ]
    },
    {
      "cell_type": "code",
      "source": [
        "#Se cargan los datos (solo las columnas de interes) y se toma un numero de filas\n",
        "#de forma aleatoria\n",
        "\n",
        "columnas= [ 'ESTU_METODO_PRGM', 'INST_ORIGEN',\"ESTU_VALORMATRICULAUNIVERSIDAD\",'MOD_INGLES_DESEM',\"ESTU_HORASSEMANATRABAJA\",\"ESTU_PAGOMATRICULAPADRES\",\"FAMI_ESTRATOVIVIENDA\",\"FAMI_TIENECOMPUTADOR\",\"FAMI_TIENEINTERNET\",\"ESTU_ESTUDIANTE\",\"ESTU_PAGOMATRICULACREDITO\",\"FAMI_TIENEAUTOMOVIL\"]\n",
        "\n",
        "datos = pd.read_csv(\"Resultados__unicos_Saber_Pro.csv\",usecols=columnas)\n",
        "\n",
        "\n",
        "\n",
        "#Se eliminan las filas que no tengan valores en las columnas de interes\n",
        "\n",
        "datos = datos.dropna(subset=columnas)\n",
        "total_filas = len(datos)\n",
        "\n",
        "\n",
        "# Se genera una lista de índices aleatorios únicos\n",
        "indices_aleatorios = random.sample(range(total_filas), 100000)\n",
        "\n",
        "# Se selecciona las filas correspondientes a los índices aleatorios\n",
        "filas_aleatorias = datos.iloc[indices_aleatorios]\n",
        "\n",
        "# Se guardan las etiquetas y las caracteristicas aparte\n",
        "etiquetas=filas_aleatorias['MOD_INGLES_DESEM']\n",
        "\n",
        "X = filas_aleatorias.drop(\"MOD_INGLES_DESEM\", axis=1)"
      ],
      "metadata": {
        "id": "RrB0phs-ks_R"
      },
      "execution_count": 4,
      "outputs": []
    },
    {
      "cell_type": "markdown",
      "source": [
        "**Preparación de las caracteristicas**"
      ],
      "metadata": {
        "id": "lYFd2__OFBcd"
      }
    },
    {
      "cell_type": "code",
      "source": [
        "\n",
        "#Se trabaja con variables cualitativas, asi que se usa OneHot\n",
        "one_hot_encoder = OneHotEncoder()\n",
        "X_encoded = one_hot_encoder.fit_transform(X).toarray()\n",
        "\n"
      ],
      "metadata": {
        "id": "ds0gkdfF1pBe"
      },
      "execution_count": 5,
      "outputs": []
    },
    {
      "cell_type": "markdown",
      "source": [
        "**PCA**"
      ],
      "metadata": {
        "id": "A9WngUoqA6s0"
      }
    },
    {
      "cell_type": "code",
      "source": [
        "\n",
        "#Se crea el objeto para aplicar PCA y se aplica a las caracteristicas\n",
        "\n",
        "pca = PCA(n_components=0.999)\n",
        "X_pca = pca.fit_transform(X_encoded)\n"
      ],
      "metadata": {
        "id": "kIqkrVtlA6DM"
      },
      "execution_count": 7,
      "outputs": []
    },
    {
      "cell_type": "markdown",
      "source": [
        "**SVM**"
      ],
      "metadata": {
        "id": "_gioPEMz-7Ws"
      }
    },
    {
      "cell_type": "code",
      "source": [
        "#Se dividen los datos\n",
        "X_train, X_test, y_train, y_test = train_test_split(X_pca, etiquetas, test_size=0.2, random_state=8)\n",
        "\n",
        "#Se crea el objeto para aplicar SVM, hiper parametros determinados por prueba y error\n",
        "\n",
        "model = svm.SVC(C=0.8,degree=3,coef0=4.5)\n",
        "model.fit(X_train, y_train)\n",
        "y_pred = model.predict(X_test)\n"
      ],
      "metadata": {
        "id": "xxbfaa87-cCg"
      },
      "execution_count": 12,
      "outputs": []
    },
    {
      "cell_type": "code",
      "source": [
        "f1 = f1_score(y_test, y_pred, average='macro')\n",
        "print(\"F1-Score:\", f1)"
      ],
      "metadata": {
        "colab": {
          "base_uri": "https://localhost:8080/"
        },
        "id": "khDyXEgMQe7h",
        "outputId": "58e3f5c9-e3e1-4b2c-88f0-d5833393c758"
      },
      "execution_count": 13,
      "outputs": [
        {
          "output_type": "stream",
          "name": "stdout",
          "text": [
            "F1-Score: 0.3190983622771792\n"
          ]
        }
      ]
    },
    {
      "cell_type": "code",
      "source": [
        "matthews = matthews_corrcoef(y_test, y_pred)\n",
        "print(\"Coeficiente de Matthews:\", matthews)"
      ],
      "metadata": {
        "colab": {
          "base_uri": "https://localhost:8080/"
        },
        "id": "7QpfUUvzRTMq",
        "outputId": "2a25f998-bda1-4901-8a72-b92e76229331"
      },
      "execution_count": 14,
      "outputs": [
        {
          "output_type": "stream",
          "name": "stdout",
          "text": [
            "Coeficiente de Matthews: 0.16814128498680472\n"
          ]
        }
      ]
    },
    {
      "cell_type": "markdown",
      "source": [
        "**Random forest**"
      ],
      "metadata": {
        "id": "AhWOw67xCt9c"
      }
    },
    {
      "cell_type": "code",
      "source": [
        "# Se dividen los datos\n",
        "X_train, X_test, y_train, y_test = train_test_split(X_pca, etiquetas, test_size=0.2)\n",
        "\n",
        "# Se crea el objeto RandomForest y se ajusta a los datos, hiper parametros determinados por prueba y error\n",
        "forest = RandomForestClassifier(n_estimators=300,criterion='entropy',max_depth=20)\n",
        "\n",
        "forest.fit(X_train, y_train)\n",
        "\n",
        "# Se predice a partir de los datos de prueba\n",
        "y_pred = forest.predict(X_test)\n",
        "\n",
        "# Se evalua el modelo\n",
        "f1 = f1_score(y_test, y_pred, average='macro')\n",
        "mcc = matthews_corrcoef(y_test, y_pred)\n",
        "\n",
        "print(\"F1 Score:\", f1)\n",
        "print(\"MCC:\", mcc)"
      ],
      "metadata": {
        "colab": {
          "base_uri": "https://localhost:8080/"
        },
        "id": "DAMl7YslAhPC",
        "outputId": "c53f11c0-2466-4087-bfc4-8d0bd5692de9"
      },
      "execution_count": 139,
      "outputs": [
        {
          "output_type": "stream",
          "name": "stdout",
          "text": [
            "F1 Score: 0.32062465398553536\n",
            "MCC: 0.15309504502476662\n"
          ]
        }
      ]
    },
    {
      "cell_type": "markdown",
      "source": [
        "**Red neuronal**"
      ],
      "metadata": {
        "id": "mviUuarqUX4q"
      }
    },
    {
      "cell_type": "code",
      "source": [
        "# Se codifican las etiquetas\n",
        "label_encoder = LabelEncoder()\n",
        "y_encoded = label_encoder.fit_transform(etiquetas)\n",
        "y_one_hot = keras.utils.to_categorical(y_encoded, num_classes=5)\n",
        "\n",
        "#Se dividen los datos en conjuntos de entrenamiento y prueba\n",
        "X_train, X_test, y_train, y_test = train_test_split(X_pca, y_one_hot, test_size=0.2, random_state=8)\n",
        "\n",
        "# Se crea el modelo de la red neuronal, cantidad de capas y funciones de activación\n",
        "#determinadas por prueba y error\n",
        "model = keras.Sequential()\n",
        "model.add(layers.Dense(128, activation='relu', input_shape=(X_train.shape[1],)))\n",
        "model.add(layers.Dense(64, activation='softplus'))\n",
        "model.add(layers.Dense(32, activation='relu'))\n",
        "model.add(layers.Dense(16, activation='relu'))\n",
        "model.add(layers.Dense(8, activation='softplus'))\n",
        "\n",
        "model.add(layers.Dense(5, activation='softmax'))\n",
        "\n",
        "# Se compila el modelo\n",
        "model.compile(optimizer='adam', loss='categorical_crossentropy',\n",
        "              metrics=[keras.metrics.Precision(), keras.metrics.Recall()])\n",
        "\n",
        "# Se entrena el modelo\n",
        "model.fit(X_train, y_train, epochs=15, batch_size=100, validation_data=(X_test, y_test))\n",
        "\n",
        "# Se evalua el modelo en el conjunto de prueba\n",
        "evaluation = model.evaluate(X_test, y_test)\n",
        "loss = evaluation[0]\n",
        "accuracy = evaluation[1]\n",
        "\n",
        "\n",
        "# Se calculan las metricas de interes\n",
        "\n",
        "y_pred = model.predict(X_test)\n",
        "mcc = matthews_corrcoef(y_test.argmax(axis=1), y_pred.argmax(axis=1))\n",
        "f1 = f1_score(y_test.argmax(axis=1), y_pred.argmax(axis=1), average='weighted')\n",
        "\n",
        "\n",
        "print(\"Loss:\", loss)\n",
        "print(\"Accuracy:\", accuracy)\n",
        "print(\"F1 score:\", f1)\n",
        "print(\"MCC:\", mcc)\n"
      ],
      "metadata": {
        "colab": {
          "base_uri": "https://localhost:8080/"
        },
        "id": "CUF_qFJRUaZn",
        "outputId": "e928831c-efb9-4a70-ee24-043192b24708"
      },
      "execution_count": 9,
      "outputs": [
        {
          "output_type": "stream",
          "name": "stdout",
          "text": [
            "Epoch 1/15\n",
            "800/800 [==============================] - 6s 5ms/step - loss: 1.3788 - precision: 0.5601 - recall: 0.0151 - val_loss: 1.3375 - val_precision: 0.6270 - val_recall: 0.0135\n",
            "Epoch 2/15\n",
            "800/800 [==============================] - 3s 4ms/step - loss: 1.3410 - precision: 0.5859 - recall: 0.0205 - val_loss: 1.3361 - val_precision: 0.5694 - val_recall: 0.0225\n",
            "Epoch 3/15\n",
            "800/800 [==============================] - 4s 5ms/step - loss: 1.3374 - precision: 0.5838 - recall: 0.0220 - val_loss: 1.3323 - val_precision: 0.6006 - val_recall: 0.0209\n",
            "Epoch 4/15\n",
            "800/800 [==============================] - 3s 3ms/step - loss: 1.3356 - precision: 0.5925 - recall: 0.0223 - val_loss: 1.3310 - val_precision: 0.5979 - val_recall: 0.0200\n",
            "Epoch 5/15\n",
            "800/800 [==============================] - 3s 4ms/step - loss: 1.3343 - precision: 0.5874 - recall: 0.0228 - val_loss: 1.3314 - val_precision: 0.6802 - val_recall: 0.0117\n",
            "Epoch 6/15\n",
            "800/800 [==============================] - 2s 3ms/step - loss: 1.3334 - precision: 0.5899 - recall: 0.0227 - val_loss: 1.3380 - val_precision: 0.5670 - val_recall: 0.0237\n",
            "Epoch 7/15\n",
            "800/800 [==============================] - 4s 5ms/step - loss: 1.3319 - precision: 0.5946 - recall: 0.0239 - val_loss: 1.3313 - val_precision: 0.5525 - val_recall: 0.0250\n",
            "Epoch 8/15\n",
            "800/800 [==============================] - 3s 4ms/step - loss: 1.3307 - precision: 0.5888 - recall: 0.0240 - val_loss: 1.3319 - val_precision: 0.5487 - val_recall: 0.0304\n",
            "Epoch 9/15\n",
            "800/800 [==============================] - 3s 4ms/step - loss: 1.3308 - precision: 0.5937 - recall: 0.0270 - val_loss: 1.3304 - val_precision: 0.6150 - val_recall: 0.0184\n",
            "Epoch 10/15\n",
            "800/800 [==============================] - 3s 3ms/step - loss: 1.3292 - precision: 0.5878 - recall: 0.0255 - val_loss: 1.3312 - val_precision: 0.5432 - val_recall: 0.0305\n",
            "Epoch 11/15\n",
            "800/800 [==============================] - 4s 5ms/step - loss: 1.3286 - precision: 0.5792 - recall: 0.0279 - val_loss: 1.3337 - val_precision: 0.5339 - val_recall: 0.0319\n",
            "Epoch 12/15\n",
            "800/800 [==============================] - 2s 3ms/step - loss: 1.3278 - precision: 0.5860 - recall: 0.0266 - val_loss: 1.3325 - val_precision: 0.5561 - val_recall: 0.0268\n",
            "Epoch 13/15\n",
            "800/800 [==============================] - 3s 4ms/step - loss: 1.3274 - precision: 0.5818 - recall: 0.0274 - val_loss: 1.3322 - val_precision: 0.5663 - val_recall: 0.0269\n",
            "Epoch 14/15\n",
            "800/800 [==============================] - 3s 3ms/step - loss: 1.3267 - precision: 0.5842 - recall: 0.0288 - val_loss: 1.3321 - val_precision: 0.5428 - val_recall: 0.0311\n",
            "Epoch 15/15\n",
            "800/800 [==============================] - 3s 4ms/step - loss: 1.3264 - precision: 0.5792 - recall: 0.0299 - val_loss: 1.3319 - val_precision: 0.5771 - val_recall: 0.0232\n",
            "625/625 [==============================] - 2s 3ms/step - loss: 1.3319 - precision: 0.5771 - recall: 0.0232\n",
            "625/625 [==============================] - 1s 2ms/step\n",
            "Loss: 1.3318665027618408\n",
            "Accuracy: 0.5771144032478333\n",
            "F1 score: 0.37382583400536423\n",
            "MCC: 0.17388874174470112\n"
          ]
        }
      ]
    }
  ]
}